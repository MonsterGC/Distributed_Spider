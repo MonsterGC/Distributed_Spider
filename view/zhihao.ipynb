{
 "cells": [
  {
   "cell_type": "code",
   "execution_count": 126,
   "metadata": {},
   "outputs": [],
   "source": [
    "# encoding=utf-8\n",
    "import re\n",
    "import jieba_fast as jieba\n",
    "import wordcloud\n",
    "import urllib\n",
    "import json\n",
    "import pandas as pd\n",
    "import pyecharts\n",
    "from pyecharts.charts import Bar\n",
    "from pyecharts.charts import Line\n",
    "from pyecharts.charts import Pie\n",
    "from pyecharts.charts import WordCloud\n",
    "from matplotlib import pyplot\n",
    "import matplotlib.pyplot as plt\n",
    "from pandas import DataFrame,Series\n",
    "# from xpinyin import Pinyin \n",
    "# from Pinyin2Hanzi import DefaultDagParams\n",
    "# from Pinyin2Hanzi import dag\n",
    "\n",
    "# 解决乱码问题\n",
    "plt.rcParams[\"font.sans-serif\"]=[\"SimHei\"]\n",
    "plt.rcParams[\"axes.unicode_minus\"]=False"
   ]
  },
  {
   "cell_type": "code",
   "execution_count": 127,
   "metadata": {},
   "outputs": [
    {
     "data": {
      "text/html": [
       "<div>\n",
       "<style scoped>\n",
       "    .dataframe tbody tr th:only-of-type {\n",
       "        vertical-align: middle;\n",
       "    }\n",
       "\n",
       "    .dataframe tbody tr th {\n",
       "        vertical-align: top;\n",
       "    }\n",
       "\n",
       "    .dataframe thead th {\n",
       "        text-align: right;\n",
       "    }\n",
       "</style>\n",
       "<table border=\"1\" class=\"dataframe\">\n",
       "  <thead>\n",
       "    <tr style=\"text-align: right;\">\n",
       "      <th></th>\n",
       "      <th>_id</th>\n",
       "      <th>url</th>\n",
       "      <th>title</th>\n",
       "      <th>money</th>\n",
       "      <th>company</th>\n",
       "      <th>experience</th>\n",
       "      <th>requirement</th>\n",
       "      <th>detail</th>\n",
       "      <th>goods</th>\n",
       "    </tr>\n",
       "  </thead>\n",
       "  <tbody>\n",
       "    <tr>\n",
       "      <th>0</th>\n",
       "      <td>5f0112d93342821665175723</td>\n",
       "      <td>https://jobs.51job.com/shanghai-hkq/116974871....</td>\n",
       "      <td>k12班主任 学管师 欢迎优秀应届生</td>\n",
       "      <td>1-1.5万/月</td>\n",
       "      <td>清羽教育</td>\n",
       "      <td>招若干人</td>\n",
       "      <td>07-04发布</td>\n",
       "      <td>【岗位职责】1.了解学生的学习进展情况并向家长沟通反馈，对所带在读学员提供高水平的服务，促使...</td>\n",
       "      <td>带薪年假、五险一金、绩效奖金、节日福利、专业培训、加班补贴、补充医疗保险、员工旅游、定期体检...</td>\n",
       "    </tr>\n",
       "    <tr>\n",
       "      <th>1</th>\n",
       "      <td>5f0112d93342821665175724</td>\n",
       "      <td>https://jobs.51job.com/guangzhou-pyq/116429800...</td>\n",
       "      <td>高级需求分析师</td>\n",
       "      <td>0.8-1.2万/月</td>\n",
       "      <td>广东中象集运科技有限公司</td>\n",
       "      <td>3-4年经验</td>\n",
       "      <td>本科</td>\n",
       "      <td>岗位职责：1、协助产品经理关于平台建设及产品的调研、分析、规划设计2、负责产品功能设计，绘制...</td>\n",
       "      <td>五险一金、专业培训、绩效奖金、年终奖金、员工旅游</td>\n",
       "    </tr>\n",
       "    <tr>\n",
       "      <th>2</th>\n",
       "      <td>5f0112d93342821665175725</td>\n",
       "      <td>https://jobs.51job.com/shanghai-pdxq/116409796...</td>\n",
       "      <td>H5前端</td>\n",
       "      <td>1-1.8万/月</td>\n",
       "      <td>上海狂龙数字科技股份有限公司</td>\n",
       "      <td>3-4年经验</td>\n",
       "      <td>本科</td>\n",
       "      <td>工作职责:1、负责前端5核心代码的开发，解决前端的各种问题，前端工程搭建、框架整合、界面优化...</td>\n",
       "      <td>五险一金、绩效奖金、做五休二、带薪年假、周末双休、节日福利</td>\n",
       "    </tr>\n",
       "    <tr>\n",
       "      <th>3</th>\n",
       "      <td>5f0112d93342821665175726</td>\n",
       "      <td>https://jobs.51job.com/shenzhen-ftq/116959378....</td>\n",
       "      <td>外贸业务员</td>\n",
       "      <td>6-8千/月</td>\n",
       "      <td>深圳市勃维科技有限公司</td>\n",
       "      <td>大专</td>\n",
       "      <td>招2人</td>\n",
       "      <td>任职要求：1. 大专以上学历22 -35岁，具有与客户通过和电话流畅交流的能力2. 熟悉外贸...</td>\n",
       "      <td>绩效奖金、带薪年假、年底双薪、五险一金、餐饮补贴</td>\n",
       "    </tr>\n",
       "    <tr>\n",
       "      <th>4</th>\n",
       "      <td>5f0112d93342821665175727</td>\n",
       "      <td>https://jobs.51job.com/shanghai-pdxq/116423119...</td>\n",
       "      <td>网易产品销售（5k+不加班）</td>\n",
       "      <td>0.5-1万/月</td>\n",
       "      <td>上海四易信息科技有限公司</td>\n",
       "      <td>招3人</td>\n",
       "      <td>07-04发布</td>\n",
       "      <td>1、对上海企业部负责人或法人进行网易企业邮箱:..产品的推广销售2、寻找***，利用电话、网...</td>\n",
       "      <td>做五休二、交通补贴、带薪年假、五险一金、节日福利、全勤奖、绩效奖金</td>\n",
       "    </tr>\n",
       "  </tbody>\n",
       "</table>\n",
       "</div>"
      ],
      "text/plain": [
       "                        _id  \\\n",
       "0  5f0112d93342821665175723   \n",
       "1  5f0112d93342821665175724   \n",
       "2  5f0112d93342821665175725   \n",
       "3  5f0112d93342821665175726   \n",
       "4  5f0112d93342821665175727   \n",
       "\n",
       "                                                 url               title  \\\n",
       "0  https://jobs.51job.com/shanghai-hkq/116974871....  k12班主任 学管师 欢迎优秀应届生   \n",
       "1  https://jobs.51job.com/guangzhou-pyq/116429800...             高级需求分析师   \n",
       "2  https://jobs.51job.com/shanghai-pdxq/116409796...                H5前端   \n",
       "3  https://jobs.51job.com/shenzhen-ftq/116959378....               外贸业务员   \n",
       "4  https://jobs.51job.com/shanghai-pdxq/116423119...      网易产品销售（5k+不加班）   \n",
       "\n",
       "        money         company experience requirement  \\\n",
       "0    1-1.5万/月            清羽教育       招若干人     07-04发布   \n",
       "1  0.8-1.2万/月    广东中象集运科技有限公司     3-4年经验          本科   \n",
       "2    1-1.8万/月  上海狂龙数字科技股份有限公司     3-4年经验          本科   \n",
       "3      6-8千/月     深圳市勃维科技有限公司         大专         招2人   \n",
       "4    0.5-1万/月    上海四易信息科技有限公司        招3人     07-04发布   \n",
       "\n",
       "                                              detail  \\\n",
       "0  【岗位职责】1.了解学生的学习进展情况并向家长沟通反馈，对所带在读学员提供高水平的服务，促使...   \n",
       "1  岗位职责：1、协助产品经理关于平台建设及产品的调研、分析、规划设计2、负责产品功能设计，绘制...   \n",
       "2  工作职责:1、负责前端5核心代码的开发，解决前端的各种问题，前端工程搭建、框架整合、界面优化...   \n",
       "3  任职要求：1. 大专以上学历22 -35岁，具有与客户通过和电话流畅交流的能力2. 熟悉外贸...   \n",
       "4  1、对上海企业部负责人或法人进行网易企业邮箱:..产品的推广销售2、寻找***，利用电话、网...   \n",
       "\n",
       "                                               goods  \n",
       "0  带薪年假、五险一金、绩效奖金、节日福利、专业培训、加班补贴、补充医疗保险、员工旅游、定期体检...  \n",
       "1                           五险一金、专业培训、绩效奖金、年终奖金、员工旅游  \n",
       "2                      五险一金、绩效奖金、做五休二、带薪年假、周末双休、节日福利  \n",
       "3                           绩效奖金、带薪年假、年底双薪、五险一金、餐饮补贴  \n",
       "4                  做五休二、交通补贴、带薪年假、五险一金、节日福利、全勤奖、绩效奖金  "
      ]
     },
     "execution_count": 127,
     "metadata": {},
     "output_type": "execute_result"
    }
   ],
   "source": [
    "data = pd.read_csv(\"data/job.csv\",encoding='gbk')\n",
    "data = data.fillna(0)\n",
    "# 前几条数据\n",
    "data.head()"
   ]
  },
  {
   "cell_type": "code",
   "execution_count": 11,
   "metadata": {},
   "outputs": [
    {
     "name": "stderr",
     "output_type": "stream",
     "text": [
      "D:\\Anaconda\\lib\\site-packages\\pyecharts\\charts\\chart.py:14: PendingDeprecationWarning: pyecharts 所有图表类型将在 v1.9.0 版本开始强制使用 ChartItem 进行数据项配置 :)\n",
      "  super().__init__(init_opts=init_opts)\n"
     ]
    },
    {
     "data": {
      "text/plain": [
       "'F:\\\\Python\\\\zhihao\\\\view\\\\教学经历.html'"
      ]
     },
     "execution_count": 11,
     "metadata": {},
     "output_type": "execute_result"
    }
   ],
   "source": [
    "# 教学经历\n",
    "data_requirement = data['requirement'].value_counts()\n",
    "filter_requirement = ['大专','本科','中专','高中','初中及以下','中技','硕士','博士']\n",
    "data_tmp = []\n",
    "data_value = []\n",
    "for (key,value) in data_requirement.items():\n",
    "    if key not in filter_requirement:\n",
    "        del data_requirement[key]\n",
    "    else:\n",
    "        data_tmp.append(key)\n",
    "        data_value.append(value)\n",
    "# plt.title('教学经历')\n",
    "# # 显示数值\n",
    "# i = 0\n",
    "# for (key,value) in data_requirement.items():\n",
    "#     plt.text(i,value,value)\n",
    "#     i += 1\n",
    "# plt.show()\n",
    "bar = Bar()\n",
    "bar.add_xaxis(data_tmp)\n",
    "bar.add_yaxis(\"教学经历\", data_value)\n",
    "bar.render(\"教学经历.html\")"
   ]
  },
  {
   "cell_type": "code",
   "execution_count": 14,
   "metadata": {},
   "outputs": [
    {
     "name": "stderr",
     "output_type": "stream",
     "text": [
      "D:\\Anaconda\\lib\\site-packages\\pyecharts\\charts\\chart.py:14: PendingDeprecationWarning: pyecharts 所有图表类型将在 v1.9.0 版本开始强制使用 ChartItem 进行数据项配置 :)\n",
      "  super().__init__(init_opts=init_opts)\n"
     ]
    },
    {
     "data": {
      "text/plain": [
       "'F:\\\\Python\\\\zhihao\\\\view\\\\工作经验.html'"
      ]
     },
     "execution_count": 14,
     "metadata": {},
     "output_type": "execute_result"
    }
   ],
   "source": [
    "# 工作经验\n",
    "data_experience = data['experience'].value_counts()\n",
    "filter_experience = ['1年经验','无需经验','3-4年经验','2年经验','在校生/应届生','5-7年经验','8-9年经验','10年以上经验']\n",
    "data_tmp = []\n",
    "data_value = []\n",
    "for (key,value) in data_experience.items():\n",
    "    if key not in filter_experience:\n",
    "        del data_experience[key]\n",
    "        continue\n",
    "#     data_experience[re.sub('经验','',key)] = data_experience.pop(key) # 去掉\"经验\"\n",
    "    data_tmp.append(re.sub('经验','',key))\n",
    "    data_value.append(value)\n",
    "# data_experience.plot(kind='barh',rot=0)\n",
    "# plt.title('工作经验')\n",
    "# # 显示数值\n",
    "# i = 0\n",
    "# for (key,value) in data_experience.items():\n",
    "#     plt.text(value,i,value)\n",
    "#     i += 1\n",
    "# plt.show()\n",
    "bar = Bar()\n",
    "bar.add_xaxis(data_tmp)\n",
    "bar.add_yaxis(\"工作经验\", data_value)\n",
    "bar.render(\"工作经验.html\")"
   ]
  },
  {
   "cell_type": "code",
   "execution_count": 142,
   "metadata": {},
   "outputs": [
    {
     "name": "stderr",
     "output_type": "stream",
     "text": [
      "D:\\Anaconda\\lib\\site-packages\\pyecharts\\charts\\chart.py:14: PendingDeprecationWarning: pyecharts 所有图表类型将在 v1.9.0 版本开始强制使用 ChartItem 进行数据项配置 :)\n",
      "  super().__init__(init_opts=init_opts)\n"
     ]
    },
    {
     "data": {
      "text/plain": [
       "'F:\\\\Python\\\\zhihao\\\\view\\\\职位词云.html'"
      ]
     },
     "execution_count": 142,
     "metadata": {},
     "output_type": "execute_result"
    }
   ],
   "source": [
    "# 职位\n",
    "final = ''\n",
    "stopwords = ['编号','代表','五险','一金']\n",
    "data_final = {}\n",
    "for n in range(len(data['title'])):\n",
    "    seg_list = list(jieba.cut(data['title'][n]))\n",
    "    for seg in seg_list:\n",
    "        if seg not in stopwords:\n",
    "#             final += seg + ' '\n",
    "            data_final.setdefault(seg,0)\n",
    "            data_final[seg] += 1\n",
    "data_final = sorted(data_final.items(), key= lambda item:item[1])\n",
    "word = WordCloud()\n",
    "word.add(\"职位\",data_final,word_size_range=(20,100))\n",
    "word.render(\"职位词云.html\")\n",
    "# my_wordcloud = wordcloud.WordCloud(font_path = r'C:\\Windows\\Fonts\\simsun.ttc',background_color=None,mode='RGBA').generate(final)\n",
    "# plt.imshow(my_wordcloud)\n",
    "# plt.axis('off')\n",
    "# plt.show()"
   ]
  },
  {
   "cell_type": "code",
   "execution_count": 141,
   "metadata": {},
   "outputs": [
    {
     "name": "stderr",
     "output_type": "stream",
     "text": [
      "D:\\Anaconda\\lib\\site-packages\\pyecharts\\charts\\chart.py:14: PendingDeprecationWarning: pyecharts 所有图表类型将在 v1.9.0 版本开始强制使用 ChartItem 进行数据项配置 :)\n",
      "  super().__init__(init_opts=init_opts)\n"
     ]
    },
    {
     "data": {
      "text/plain": [
       "'F:\\\\Python\\\\zhihao\\\\view\\\\福利词云.html'"
      ]
     },
     "execution_count": 141,
     "metadata": {},
     "output_type": "execute_result"
    }
   ],
   "source": [
    "# 福利\n",
    "final = ''\n",
    "stopwords = []\n",
    "data_final = {}\n",
    "for n in range(len(data['goods'])):\n",
    "    seg_list = list(jieba.cut(str(data['goods'][n])))\n",
    "    for seg in seg_list:\n",
    "        if seg not in stopwords:\n",
    "#             final += seg + ' '\n",
    "            data_final.setdefault(seg,0)\n",
    "            data_final[seg] += 1\n",
    "data_final = sorted(data_final.items(), key= lambda item:item[1])\n",
    "word = WordCloud()\n",
    "word.add(\"福利\",data_final,word_size_range=(20,100))\n",
    "word.render(\"福利词云.html\")\n",
    "# my_wordcloud = wordcloud.WordCloud(font_path = r'C:\\Windows\\Fonts\\simsun.ttc',background_color=None,mode='RGBA').generate(final)\n",
    "# plt.imshow(my_wordcloud)\n",
    "# plt.axis('off')\n",
    "# plt.savefig(\"福利.png\")\n",
    "# plt.show()"
   ]
  },
  {
   "cell_type": "code",
   "execution_count": 140,
   "metadata": {},
   "outputs": [
    {
     "name": "stderr",
     "output_type": "stream",
     "text": [
      "D:\\Anaconda\\lib\\site-packages\\pyecharts\\charts\\chart.py:14: PendingDeprecationWarning: pyecharts 所有图表类型将在 v1.9.0 版本开始强制使用 ChartItem 进行数据项配置 :)\n",
      "  super().__init__(init_opts=init_opts)\n"
     ]
    },
    {
     "data": {
      "text/plain": [
       "'F:\\\\Python\\\\zhihao\\\\view\\\\详细工作词云.html'"
      ]
     },
     "execution_count": 140,
     "metadata": {},
     "output_type": "execute_result"
    }
   ],
   "source": [
    "# 详细工作\n",
    "final = ''\n",
    "stopwords = ['职能','类别','要求','微信','分享','任职']\n",
    "data_final = {}\n",
    "for n in range(1,10000):\n",
    "    seg_list = list(jieba.cut(str(data['detail'][n])))\n",
    "    for seg in seg_list:\n",
    "        if seg not in stopwords:\n",
    "#             final += seg + ' '\n",
    "            data_final.setdefault(seg,0)\n",
    "            data_final[seg] += 1\n",
    "data_final = sorted(data_final.items(), key= lambda item:item[1])\n",
    "word = WordCloud()\n",
    "word.add(\"详细工作\",data_final,shape='circle',word_size_range=(20,100))\n",
    "word.render(\"详细工作词云.html\")\n",
    "# my_wordcloud = wordcloud.WordCloud(font_path = r'C:\\Windows\\Fonts\\simsun.ttc',background_color=None,mode='RGBA').generate(final)\n",
    "# plt.imshow(my_wordcloud)\n",
    "# plt.axis('off')\n",
    "# plt.savefig(\"详细工作.png\")\n",
    "# plt.show()"
   ]
  },
  {
   "cell_type": "code",
   "execution_count": 6,
   "metadata": {},
   "outputs": [
    {
     "name": "stderr",
     "output_type": "stream",
     "text": [
      "D:\\Anaconda\\lib\\site-packages\\pyecharts\\charts\\chart.py:14: PendingDeprecationWarning: pyecharts 所有图表类型将在 v1.9.0 版本开始强制使用 ChartItem 进行数据项配置 :)\n",
      "  super().__init__(init_opts=init_opts)\n"
     ]
    },
    {
     "data": {
      "text/plain": [
       "'F:\\\\Python\\\\zhihao\\\\view\\\\公司.html'"
      ]
     },
     "execution_count": 6,
     "metadata": {},
     "output_type": "execute_result"
    }
   ],
   "source": [
    "data_company = data['company'].value_counts()\n",
    "# data_company['其他'] = 0 \n",
    "data_tmp = []\n",
    "data_value = []\n",
    "for (key,value) in data_company.items():\n",
    "    if value < 500:\n",
    "#         data_company['其他'] += value\n",
    "        del data_company[key]\n",
    "        continue\n",
    "#     data_company[re.sub(r'有限公司','',key)] = data_company[key]\n",
    "    data_tmp.append(re.sub(r'有限公司','',key))\n",
    "    data_value.append(value)\n",
    "# data_company.plot(kind='barh',rot=0)\n",
    "# plt.title('公司')\n",
    "# # 显示数值\n",
    "# i = 0\n",
    "# for (key,value) in data_company.items():\n",
    "#     plt.text(value,i,value)\n",
    "#     i += 1\n",
    "# plt.show()\n",
    "bar = Bar()\n",
    "bar.add_xaxis(data_tmp)\n",
    "bar.add_yaxis(\"公司\", data_value)\n",
    "bar.render(\"公司.html\")"
   ]
  },
  {
   "cell_type": "code",
   "execution_count": 42,
   "metadata": {
    "scrolled": true
   },
   "outputs": [
    {
     "name": "stderr",
     "output_type": "stream",
     "text": [
      "<>:11: DeprecationWarning: invalid escape sequence \\d\n",
      "<>:11: DeprecationWarning: invalid escape sequence \\d\n",
      "<>:11: DeprecationWarning: invalid escape sequence \\d\n",
      "<ipython-input-42-d44516958d20>:11: DeprecationWarning: invalid escape sequence \\d\n",
      "  data_money = data['money'].str.extract('([\\d|\\.].*?)')\n",
      "D:\\Anaconda\\lib\\site-packages\\pyecharts\\charts\\chart.py:14: PendingDeprecationWarning: pyecharts 所有图表类型将在 v1.9.0 版本开始强制使用 ChartItem 进行数据项配置 :)\n",
      "  super().__init__(init_opts=init_opts)\n"
     ]
    },
    {
     "data": {
      "text/plain": [
       "'F:\\\\Python\\\\zhihao\\\\view\\\\工资区间.html'"
      ]
     },
     "execution_count": 42,
     "metadata": {},
     "output_type": "execute_result"
    }
   ],
   "source": [
    "# for (key,value) in enumerate(data['money']):\n",
    "#         num = re.search(r'([\\d|\\.]+)',str(value))\n",
    "#         uunit = re.search(r'([万|千])',str(value))\n",
    "#         if num:\n",
    "#             num = num.group()\n",
    "#         if uunit:\n",
    "#             uunit = uunit.group()\n",
    "#         data['money'][str(key)] = str(num) + str(uunit)\n",
    "data_tmp = []\n",
    "data_value = []\n",
    "data_money = data['money'].str.extract('([\\d|\\.].*?)')\n",
    "# data_money = {}\n",
    "data_money = data['money'].value_counts()\n",
    "for (key,value) in data_money.items():\n",
    "    if value < 2000:\n",
    "        del data_money[key]\n",
    "        continue\n",
    "    data_tmp.append(key)\n",
    "    data_value.append(value)\n",
    "# #     data_money[re.sub(r'/月','',str(key))] = data_money[str(key)]\n",
    "# data_money.plot(kind='barh',rot=0)\n",
    "# plt.title('工资区间/月')\n",
    "# plt.show()\n",
    "\n",
    "bar = Line()\n",
    "bar.add_xaxis(data_tmp)\n",
    "bar.add_yaxis(\"工资区间\", data_value)\n",
    "bar.render(\"工资区间.html\")"
   ]
  },
  {
   "cell_type": "code",
   "execution_count": 41,
   "metadata": {},
   "outputs": [
    {
     "name": "stderr",
     "output_type": "stream",
     "text": [
      "<>:1: DeprecationWarning: invalid escape sequence \\d\n",
      "<>:1: DeprecationWarning: invalid escape sequence \\d\n",
      "<>:1: DeprecationWarning: invalid escape sequence \\d\n",
      "<ipython-input-41-6d21421a5edb>:1: DeprecationWarning: invalid escape sequence \\d\n",
      "  data_money = data['money'].str.extract('-([\\d|\\.|万|千]+)')\n",
      "D:\\Anaconda\\lib\\site-packages\\pyecharts\\charts\\chart.py:14: PendingDeprecationWarning: pyecharts 所有图表类型将在 v1.9.0 版本开始强制使用 ChartItem 进行数据项配置 :)\n",
      "  super().__init__(init_opts=init_opts)\n"
     ]
    },
    {
     "data": {
      "text/plain": [
       "'F:\\\\Python\\\\zhihao\\\\view\\\\最高工资.html'"
      ]
     },
     "execution_count": 41,
     "metadata": {},
     "output_type": "execute_result"
    }
   ],
   "source": [
    "data_money = data['money'].str.extract('-([\\d|\\.|万|千]+)')\n",
    "data_tmp = []\n",
    "data_value = []\n",
    "# data_money = {}\n",
    "# for value in data['money'].items():\n",
    "#     if key < \n",
    "data_money = data_money[0].value_counts()\n",
    "for (key,value) in data_money.items():\n",
    "    if value < 1000:\n",
    "        del data_money[key]\n",
    "        continue\n",
    "    data_tmp.append(key)\n",
    "    data_value.append(value)\n",
    "# data_money.plot(kind='barh',rot=0)\n",
    "# plt.title('最高工资频次')\n",
    "# plt.show()\n",
    "\n",
    "bar = Line()\n",
    "bar.add_xaxis(data_tmp)\n",
    "bar.add_yaxis(\"最高工资\", data_value)\n",
    "bar.render(\"最高工资.html\")"
   ]
  },
  {
   "cell_type": "code",
   "execution_count": 102,
   "metadata": {},
   "outputs": [],
   "source": [
    "def to_chinese(text):\n",
    "    \"\"\"\n",
    "    英文转中文\n",
    "    \"\"\"\n",
    "    url = \"http://fanyi.youdao.com/translate?smartresult=dict&smartresult=rule&sessionFrom=null\"\n",
    "\n",
    "    headers = {\n",
    "        \"Accept\":\"application/json, text/javascript, */*; q=0.01\",\n",
    "        \"X-Requested-With\":\"XMLHttpRequest\",\n",
    "        \"User-Agent\":\"Mozilla/5.0 (Windows NT 10.0; Win64; x64) AppleWebKit/537.36 (KHTML, like Gecko) Chrome/61.0.3163.100 \",\n",
    "        \"Content-Type\":\"application/x-www-form-urlencoded; charset=UTF-8\"\n",
    "        }\n",
    "\n",
    "    data = {\n",
    "        \"i\":text,\n",
    "        \"to\":\"AUTO\",\n",
    "        \"from\":\"AUTO\",\n",
    "        \"smartresult\":\"dict\",\n",
    "        \"client\":\"fanyideskweb\",\n",
    "        \"salt\": \"1508029833145\",\n",
    "        \"sign\": \"7df48510eed000cc4782838d7d1a55e6\",\n",
    "        \"doctype\":\"json\",\n",
    "        \"version\":\"2.1\",\n",
    "        \"keyfrom\":\"fanyi.web\",\n",
    "        \"action\":\"FY_BY_CLICKBUTTION\",\n",
    "        \"typoResult\":\"true\"\n",
    "        }\n",
    "\n",
    "    data = urllib.parse.urlencode(data).encode(encoding='utf-8')\n",
    "\n",
    "    request = urllib.request.Request(url, data = data, headers = headers)\n",
    "    response = urllib.request.urlopen(request)\n",
    "    return json.loads(response.read())['translateResult'][0][0]['tgt']"
   ]
  },
  {
   "cell_type": "code",
   "execution_count": 108,
   "metadata": {},
   "outputs": [
    {
     "name": "stderr",
     "output_type": "stream",
     "text": [
      "D:\\Anaconda\\lib\\site-packages\\pyecharts\\charts\\chart.py:14: PendingDeprecationWarning: pyecharts 所有图表类型将在 v1.9.0 版本开始强制使用 ChartItem 进行数据项配置 :)\n",
      "  super().__init__(init_opts=init_opts)\n"
     ]
    },
    {
     "data": {
      "text/plain": [
       "'F:\\\\Python\\\\zhihao\\\\view\\\\城市.html'"
      ]
     },
     "execution_count": 108,
     "metadata": {},
     "output_type": "execute_result"
    }
   ],
   "source": [
    "# https://jobs.51job.com/shanghai-hkq/116974871....\n",
    "data_address = data['url'].str.extract(r'https://[a-z|.].*?/([a-z].*?)[\\-|/].*?')\n",
    "data_tmp = []\n",
    "data_value = []\n",
    "# data_money = {}\n",
    "# for value in data['money'].items():\n",
    "#     if key < \n",
    "data_address = data_address[0].value_counts()\n",
    "for (key,value) in data_address.items():\n",
    "    if value < 3000:\n",
    "        del data_address[key]\n",
    "        continue\n",
    "    data_tmp.append(key)\n",
    "    data_value.append(value)\n",
    "#     # 拼音转汉字\n",
    "#     translator=DefaultDagParams()\n",
    "#     result = dag(translator, key ,path_num=5,log=True)\n",
    "#     data_address[result] = data_address.pop(key)\n",
    "# data_address.plot(kind='barh',rot=0)\n",
    "# plt.title('城市频次')\n",
    "# plt.show()\n",
    "pie = Pie()\n",
    "pie.add('城市', [(to_chinese(key), value) for (key ,value) in data_address.items()] , color=None)\n",
    "# pie.show_config()\n",
    "pie.render('城市.html')"
   ]
  },
  {
   "cell_type": "code",
   "execution_count": null,
   "metadata": {},
   "outputs": [],
   "source": []
  },
  {
   "cell_type": "code",
   "execution_count": null,
   "metadata": {},
   "outputs": [],
   "source": []
  }
 ],
 "metadata": {
  "kernelspec": {
   "display_name": "Python 3",
   "language": "python",
   "name": "python3"
  },
  "language_info": {
   "codemirror_mode": {
    "name": "ipython",
    "version": 3
   },
   "file_extension": ".py",
   "mimetype": "text/x-python",
   "name": "python",
   "nbconvert_exporter": "python",
   "pygments_lexer": "ipython3",
   "version": "3.7.3"
  },
  "toc": {
   "base_numbering": 1,
   "nav_menu": {},
   "number_sections": true,
   "sideBar": true,
   "skip_h1_title": false,
   "title_cell": "Table of Contents",
   "title_sidebar": "Contents",
   "toc_cell": false,
   "toc_position": {},
   "toc_section_display": true,
   "toc_window_display": false
  }
 },
 "nbformat": 4,
 "nbformat_minor": 2
}
